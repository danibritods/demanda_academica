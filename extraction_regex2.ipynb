{
 "cells": [
  {
   "cell_type": "code",
   "execution_count": 306,
   "metadata": {},
   "outputs": [],
   "source": [
    "from pdfminer.high_level import extract_text\n",
    "from pdfminer.layout import LAParams\n",
    "import re\n",
    "import os\n",
    "\n",
    "def Approved_Subjects(student_extract_pdf):\n",
    "    '''Return approved subject keys from the academic extract'''\n",
    "    #Ideal layout parameters:\n",
    "    laparams = LAParams(line_overlap=0.5,\n",
    "        char_margin=95.0, line_margin=2, word_margin=0.5,\n",
    "        boxes_flow=0.5, detect_vertical=False, all_texts=False)\n",
    "    #Reading pdf to string\n",
    "    extract = extract_text(student_extract_pdf,laparams=laparams)\n",
    "\n",
    "    #Filter from \"extrato\" all the lines begining with a subject key\n",
    "    attended_subjects = re.findall(r\"[A-Z]{3}\\d{5}.*\",extract) #print(attended_subjects)\n",
    "    #Filter the approved subjects and the subjects exempt through the special pandemic period (AAREs) \n",
    "    approved_subjects = [att_sub.split(\" \",1)[0] for att_sub in attended_subjects if (\"APR\" in att_sub or len(att_sub) == 12)]\n",
    "    return approved_subjects \n",
    "\n",
    "#Approved_Subjects(\"extrato_escolar.pdf\")"
   ]
  },
  {
   "cell_type": "markdown",
   "metadata": {},
   "source": [
    "# Building the prerequisite dictionary! "
   ]
  },
  {
   "cell_type": "code",
   "execution_count": 361,
   "metadata": {},
   "outputs": [],
   "source": [
    "def Subject_Dict(matriz_pdf):\n",
    "    '''Build the subject database, with the subject key, name and prerequitites'''\n",
    "    laparams = LAParams(line_overlap=0.5,\n",
    "    char_margin=500, line_margin=2, word_margin=0.5,\n",
    "    boxes_flow=0.5, detect_vertical=False, all_texts=False)\n",
    "    text = extract_text(matriz_pdf,laparams=laparams)\n",
    "\n",
    "    #This first expression fixes the side effect of the pdf reader putting prerequisites in new lines\n",
    "    #substitute the newline for a comma just between prerequisites\n",
    "    exp = r\",\\n[A-Z]{3}\\d{5}\"\n",
    "    def repl(m):\n",
    "        #print(m.group(0)[2:])\n",
    "        return(\",\"+m.group(0)[2:])\n",
    "\n",
    "    fixed_prerequisites=re.sub(exp,repl,text)\n",
    "    \n",
    "    exp2 = r\"[A-Z]{3}\\d{5}.*[A-Z]{3}\\d{5}\"\n",
    "    subjects_prerequisites = re.findall(exp2,fixed_prerequisites,re.M) \n",
    "    subjects_prerequisites\n",
    "\n",
    "    #~improove this repetition of .split()~\n",
    "    #prerequisites = {x.split()[0]:x.split()[-1] for x in subjects_prerequisites}\n",
    "    prerequisites = {x[0]:x[-1].split(\",\") for x in [y.split() for y in subjects_prerequisites]}\n",
    "    subject_names = {x[0]:x[-2] for x in [y.split() for y in subjects_prerequisites]}\n",
    "\n",
    "    return prerequisites,subject_names\n",
    "#Prerequisite_Dict(\"2014-MatrizCurricularComputacao.pdf\")"
   ]
  },
  {
   "cell_type": "code",
   "execution_count": null,
   "metadata": {},
   "outputs": [],
   "source": [
    "def Subjects_Demand(prerequisites,approved_subjects):\n",
    "    '''Finds the subjects the student have the possibility to attend, by not being approved and having the prerequisites'''\n",
    "    def Is_sublist(sublist,list):\n",
    "        return set(sublist) <= set(list)\n",
    "\n",
    "    subjects_demand = [subject for subject in prerequisites.keys() if \n",
    "    (subject not in approved_subjects and Is_sublist(prerequisites[subject],approved_subjects))] \n",
    "    return subjects_demand\n"
   ]
  },
  {
   "cell_type": "code",
   "execution_count": 362,
   "metadata": {},
   "outputs": [
    {
     "name": "stdout",
     "output_type": "stream",
     "text": [
      "INF01113 ParadigmasdeLinguagensdeProgramação\n",
      "MAT01201 EstatísticaEProbabilidades\n",
      "INF01202 EstruturadeDadosII\n",
      "INF01204 SistemaOperacional\n",
      "INF01203 ProgramaçãoOrientadaaObjetos\n",
      "INF01201 AnáliseeProjetodeSistemas\n",
      "INF01206 BancodeDadosII\n",
      "INF01211 PesquisaOperacional\n"
     ]
    }
   ],
   "source": [
    "#Complete for one student\n",
    "prerequisites,subject_names = Subject_Dict(\"2014-MatrizCurricularComputacao.pdf\")\n",
    "approved_subjects = Approved_Subjects(\"extrato_escolar.pdf\")\n",
    "subjects_demand = Subjects_Demand(prerequisites,approved_subjects)\n",
    "\n",
    "for subject_key in subjects_demand:\n",
    "    print(subject_key, subject_names[subject_key])"
   ]
  },
  {
   "cell_type": "markdown",
   "metadata": {},
   "source": [
    "#Putting it all toghether"
   ]
  },
  {
   "cell_type": "code",
   "execution_count": 385,
   "metadata": {},
   "outputs": [],
   "source": [
    "def Aggregate_Demand(extratos,prerequisites):\n",
    "    for extrato in extratos:\n",
    "        approved_subjects = Approved_Subjects(extrato)\n",
    "        subjects_demand = Subjects_Demand(prerequisites,approved_subjects)\n",
    "        for subject in subjects_demand:\n",
    "            if subject not in aggregate_demand:\n",
    "                aggregate_demand[subject] = 1 \n",
    "            else:\n",
    "                aggregate_demand[subject] += 1\n",
    "    return aggregate_demand"
   ]
  },
  {
   "cell_type": "code",
   "execution_count": 383,
   "metadata": {},
   "outputs": [],
   "source": [
    "def Extratos():     \n",
    "    files = os.listdir()\n",
    "    pdfs = [file for file in files if file[-3:] == \"pdf\"]\n",
    "    #extratos = [\"extrato_escolar.pdf\",\"Ext_-_JVFD.pdf\",\"extrato_ze.pdf\"]\n",
    "    extratos = [pdf for pdf in pdfs if \"Matriz\" not in pdf]\n",
    "    return extratos "
   ]
  },
  {
   "cell_type": "code",
   "execution_count": 386,
   "metadata": {},
   "outputs": [
    {
     "name": "stdout",
     "output_type": "stream",
     "text": [
      "3 INF01113 ParadigmasdeLinguagensdeProgramação\n",
      "3 MAT01201 EstatísticaEProbabilidades\n",
      "3 INF01202 EstruturadeDadosII\n",
      "3 INF01204 SistemaOperacional\n",
      "3 INF01203 ProgramaçãoOrientadaaObjetos\n",
      "3 INF01201 AnáliseeProjetodeSistemas\n",
      "3 INF01206 BancodeDadosII\n",
      "3 INF01211 PesquisaOperacional\n",
      "1 FIS01103 FísicaGeralII\n"
     ]
    }
   ],
   "source": [
    "extratos = Extratos()\n",
    "\n",
    "\n",
    "prerequisites,subject_names = Subject_Dict(\"2014-MatrizCurricularComputacao.pdf\")\n",
    "aggregate_demand = {}\n",
    "aggregate_demand = Aggregate_Demand(extratos,prerequisites)\n",
    "\n",
    "for subject_key in aggregate_demand.keys():\n",
    "    print(aggregate_demand[subject_key],subject_key,subject_names[subject_key])"
   ]
  },
  {
   "cell_type": "code",
   "execution_count": null,
   "metadata": {},
   "outputs": [],
   "source": []
  },
  {
   "cell_type": "code",
   "execution_count": 393,
   "metadata": {},
   "outputs": [
    {
     "name": "stdout",
     "output_type": "stream",
     "text": [
      "{'a': 1, 'b': 2}\n"
     ]
    }
   ],
   "source": [
    "import pickle\n",
    "dictionary_data = {\"a\": 1, \"b\": 2}\n",
    "\n",
    "\n",
    "a_file = open(\"data.pkl\", \"wb\")\n",
    "\n",
    "pickle.dump(dictionary_data, a_file)\n",
    "\n",
    "a_file.close()\n",
    "\n",
    "\n",
    "a_file = open(\"data.pkl\", \"rb\")\n",
    "\n",
    "output = pickle.load(a_file)\n",
    "\n",
    "print(output)"
   ]
  },
  {
   "cell_type": "code",
   "execution_count": 395,
   "metadata": {},
   "outputs": [
    {
     "data": {
      "text/plain": [
       "{'a': 1, 'b': 2}"
      ]
     },
     "execution_count": 395,
     "metadata": {},
     "output_type": "execute_result"
    }
   ],
   "source": [
    "import json \n",
    "b_file = open(\"data.json\",\"w\")\n",
    "json.dump(dictionary_data, b_file)\n",
    "b_file.close()\n",
    "\n",
    "b_file = open(\"data.json\",\"r\")\n",
    "json.load(b_file)\n",
    "\n",
    "with open(file, 'w') as f: \n",
    "    json.dump(data, f)\n",
    "\n"
   ]
  },
  {
   "cell_type": "code",
   "execution_count": 397,
   "metadata": {},
   "outputs": [
    {
     "ename": "NameError",
     "evalue": "name 'file' is not defined",
     "output_type": "error",
     "traceback": [
      "\u001b[0;31m---------------------------------------------------------------------------\u001b[0m",
      "\u001b[0;31mNameError\u001b[0m                                 Traceback (most recent call last)",
      "\u001b[0;32m/tmp/ipykernel_28573/1888043862.py\u001b[0m in \u001b[0;36m<module>\u001b[0;34m\u001b[0m\n\u001b[0;32m----> 1\u001b[0;31m \u001b[0;32mwith\u001b[0m \u001b[0mopen\u001b[0m\u001b[0;34m(\u001b[0m\u001b[0mfile\u001b[0m\u001b[0;34m,\u001b[0m \u001b[0;34m'r'\u001b[0m\u001b[0;34m)\u001b[0m \u001b[0;32mas\u001b[0m \u001b[0mf\u001b[0m\u001b[0;34m:\u001b[0m\u001b[0;34m\u001b[0m\u001b[0;34m\u001b[0m\u001b[0m\n\u001b[0m\u001b[1;32m      2\u001b[0m     \u001b[0mdata\u001b[0m \u001b[0;34m=\u001b[0m \u001b[0mjson\u001b[0m\u001b[0;34m.\u001b[0m\u001b[0mload\u001b[0m\u001b[0;34m(\u001b[0m\u001b[0mf\u001b[0m\u001b[0;34m)\u001b[0m\u001b[0;34m\u001b[0m\u001b[0;34m\u001b[0m\u001b[0m\n",
      "\u001b[0;31mNameError\u001b[0m: name 'file' is not defined"
     ]
    }
   ],
   "source": [
    "with open(file, 'r') as f:\n",
    "    data = json.load(f)"
   ]
  },
  {
   "cell_type": "code",
   "execution_count": null,
   "metadata": {},
   "outputs": [],
   "source": [
    "#TODO:think about the best approach to automatically check it there exists the names and prerequisites files\n",
    "# If they don't exist, build them.\n",
    "# TODO: Build the files with the fixes\n",
    "# TODO: Stablish a simple, also salves as json file to store the subject keys equivalences \n",
    "# TODO: profit"
   ]
  }
 ],
 "metadata": {
  "interpreter": {
   "hash": "767d51c1340bd893661ea55ea3124f6de3c7a262a8b4abca0554b478b1e2ff90"
  },
  "kernelspec": {
   "display_name": "Python 3.10.0 64-bit",
   "language": "python",
   "name": "python3"
  },
  "language_info": {
   "codemirror_mode": {
    "name": "ipython",
    "version": 3
   },
   "file_extension": ".py",
   "mimetype": "text/x-python",
   "name": "python",
   "nbconvert_exporter": "python",
   "pygments_lexer": "ipython3",
   "version": "3.10.0"
  },
  "orig_nbformat": 4
 },
 "nbformat": 4,
 "nbformat_minor": 2
}
